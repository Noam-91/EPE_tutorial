{
 "cells": [
  {
   "cell_type": "code",
   "execution_count": 1,
   "metadata": {},
   "outputs": [],
   "source": [
    "from __future__ import absolute_import, division, print_function, unicode_literals\n",
    "import tensorflow as tf\n",
    "from tensorflow.keras import datasets, layers, models\n",
    "import h5py\n",
    "import pandas as pd\n",
    "import numpy as np\n",
    "from tensorflow.keras.regularizers import l1\n",
    "from tensorflow.keras.optimizers import Adam\n",
    "from sklearn.model_selection import train_test_split\n",
    "from sklearn import preprocessing\n",
    "import matplotlib.pyplot as plt\n",
    "from sklearn.metrics import roc_curve, auc"
   ]
  },
  {
   "cell_type": "code",
   "execution_count": 2,
   "metadata": {},
   "outputs": [],
   "source": [
    "f = h5py.File('./data/processed-pythia82-lhc13-all-pt1-50k-r1_h022_e0175_t220_nonu_withPars_truth.z', 'r')\n",
    "treeArray = f['t_allpar_new'][()]"
   ]
  },
  {
   "cell_type": "code",
   "execution_count": 3,
   "metadata": {},
   "outputs": [],
   "source": [
    "features = ['j1_ptrel','j1_etarot','j1_phirot','j1_erel','j1_deltaR','j1_pdgid','j_index']\n",
    "labels = ['j_g','j_q','j_w','j_z','j_t','j_index']"
   ]
  },
  {
   "cell_type": "code",
   "execution_count": 4,
   "metadata": {},
   "outputs": [],
   "source": [
    "features_df = pd.DataFrame(treeArray,columns=list(set(features)))\n",
    "labels_df = pd.DataFrame(treeArray,columns=list(set(labels)))\n",
    "df = pd.concat([features_df,labels_df],axis=1)\n",
    "df = df.drop_duplicates()"
   ]
  },
  {
   "cell_type": "code",
   "execution_count": 44,
   "metadata": {},
   "outputs": [],
   "source": [
    "MaxParticles = 20\n",
    "l1Reg = 0.0001\n",
    "# Convert to nparray\n",
    "labels_df = labels_df.drop_duplicates()\n",
    "features_val = features_df.drop(['j_index'],axis=1).values\n",
    "labels_val = labels_df.drop(['j_index'],axis=1).values\n",
    "\n",
    "features_2dval = np.zeros((len(labels_df), MaxParticles, len(features) - 1))\n",
    "for i in range(0, len(labels_df)):\n",
    "    features_df_i = features_df[features_df['j_index'] == labels_df['j_index'].iloc[i]]\n",
    "    index_values = features_df_i.index.values\n",
    "\n",
    "    features_val_i = features_val[np.array(index_values), :]\n",
    "    nParticles = len(features_val_i)\n",
    "    features_val_i = features_val_i[features_val_i[:, 0].argsort()[::-1]]  # sort descending by first value (ptrel, usually)\n",
    "    \n",
    "    if nParticles > MaxParticles:\n",
    "        features_val_i = features_val_i[0:MaxParticles, :]\n",
    "    else:\n",
    "        features_val_i = np.concatenate([features_val_i, np.zeros((MaxParticles - nParticles, len(features) - 1))])\n",
    "    features_2dval[i, :, :] = features_val_i\n",
    "\n",
    "features_val = features_2dval"
   ]
  },
  {
   "cell_type": "code",
   "execution_count": 45,
   "metadata": {},
   "outputs": [],
   "source": [
    "X_train_val, X_test, y_train_val, y_test = train_test_split(features_val, labels_val, test_size=0.2,random_state=42)"
   ]
  },
  {
   "cell_type": "code",
   "execution_count": 58,
   "metadata": {},
   "outputs": [
    {
     "name": "stdout",
     "output_type": "stream",
     "text": [
      "Model: \"sequential_8\"\n",
      "_________________________________________________________________\n",
      "Layer (type)                 Output Shape              Param #   \n",
      "=================================================================\n",
      "GRU (GRU)                    (None, 20, 72)            17280     \n",
      "_________________________________________________________________\n",
      "flatten_8 (Flatten)          (None, 1440)              0         \n",
      "_________________________________________________________________\n",
      "fc_relu1 (Dense)             (None, 128)               184448    \n",
      "_________________________________________________________________\n",
      "dropout_13 (Dropout)         (None, 128)               0         \n",
      "_________________________________________________________________\n",
      "output_softmax (Dense)       (None, 5)                 645       \n",
      "=================================================================\n",
      "Total params: 202,373\n",
      "Trainable params: 202,373\n",
      "Non-trainable params: 0\n",
      "_________________________________________________________________\n"
     ]
    }
   ],
   "source": [
    "model = models.Sequential()\n",
    "model.add(layers.InputLayer(input_shape=(20,6)))\n",
    "\n",
    "model.add(layers.GRU(units = 72, activation='selu', recurrent_activation='hard_sigmoid', use_bias=True,\n",
    "                      kernel_initializer='lecun_uniform', recurrent_initializer='orthogonal',\n",
    "                      bias_initializer='zeros',  kernel_regularizer=l1(l1Reg),\n",
    "                      recurrent_regularizer=l1(0.001), bias_regularizer=None, activity_regularizer=None,\n",
    "                      kernel_constraint=None, recurrent_constraint=None, bias_constraint=None,\n",
    "#                       dropout=0.001, recurrent_dropout=0.00001,\n",
    "                     return_sequences=True,name='GRU'))\n",
    "model.add(layers.Flatten())\n",
    "model.add(layers.Dense(128, activation='relu', kernel_initializer='lecun_uniform', \n",
    "              name='fc_relu1', kernel_regularizer=l1(l1Reg)))\n",
    "model.add(layers.Dropout(0.1))\n",
    "model.add(layers.Dense(5, activation='softmax', kernel_initializer='lecun_uniform', \n",
    "                        name='output_softmax', kernel_regularizer=l1(l1Reg)))\n",
    "\n",
    "model.summary()"
   ]
  },
  {
   "cell_type": "code",
   "execution_count": 59,
   "metadata": {},
   "outputs": [],
   "source": [
    "learningRate = 1e-4\n",
    "adam = Adam(lr=learningRate)\n",
    "model.compile(optimizer='adam', loss='categorical_crossentropy', metrics=['accuracy'])"
   ]
  },
  {
   "cell_type": "code",
   "execution_count": 60,
   "metadata": {},
   "outputs": [
    {
     "name": "stdout",
     "output_type": "stream",
     "text": [
      "Train on 14889 samples, validate on 4963 samples\n",
      "Epoch 1/30\n",
      "14889/14889 [==============================] - 6s 426us/sample - loss: 73.0934 - accuracy: 0.6956 - val_loss: 20.8743 - val_accuracy: 0.7516\n",
      "Epoch 2/30\n",
      "14889/14889 [==============================] - 2s 162us/sample - loss: 18.8835 - accuracy: 0.8205 - val_loss: 10.7404 - val_accuracy: 0.8598\n",
      "Epoch 3/30\n",
      "14889/14889 [==============================] - 2s 161us/sample - loss: 10.3787 - accuracy: 0.8252 - val_loss: 7.4855 - val_accuracy: 0.8628\n",
      "Epoch 4/30\n",
      "14889/14889 [==============================] - 2s 160us/sample - loss: 5.2940 - accuracy: 0.8547 - val_loss: 2.1448 - val_accuracy: 0.8837\n",
      "Epoch 5/30\n",
      "14889/14889 [==============================] - 2s 156us/sample - loss: 2.1815 - accuracy: 0.8687 - val_loss: 1.4107 - val_accuracy: 0.9083\n",
      "Epoch 6/30\n",
      "14889/14889 [==============================] - 2s 154us/sample - loss: 1.3498 - accuracy: 0.8880 - val_loss: 1.0988 - val_accuracy: 0.8976\n",
      "Epoch 7/30\n",
      "14889/14889 [==============================] - 2s 156us/sample - loss: 1.1147 - accuracy: 0.8997 - val_loss: 1.0214 - val_accuracy: 0.9152\n",
      "Epoch 8/30\n",
      "14889/14889 [==============================] - 2s 160us/sample - loss: 1.0160 - accuracy: 0.9015 - val_loss: 0.9609 - val_accuracy: 0.9073\n",
      "Epoch 9/30\n",
      "14889/14889 [==============================] - 2s 152us/sample - loss: 0.9669 - accuracy: 0.9005 - val_loss: 0.9254 - val_accuracy: 0.9093\n",
      "Epoch 10/30\n",
      "14889/14889 [==============================] - 2s 157us/sample - loss: 0.9405 - accuracy: 0.9038 - val_loss: 0.9184 - val_accuracy: 0.9043\n",
      "Epoch 11/30\n",
      "14889/14889 [==============================] - 2s 151us/sample - loss: 0.9204 - accuracy: 0.9063 - val_loss: 0.8823 - val_accuracy: 0.9172\n",
      "Epoch 12/30\n",
      "14889/14889 [==============================] - 2s 159us/sample - loss: 0.8931 - accuracy: 0.9089 - val_loss: 0.8673 - val_accuracy: 0.9180\n",
      "Epoch 13/30\n",
      "14889/14889 [==============================] - 2s 157us/sample - loss: 0.8661 - accuracy: 0.9113 - val_loss: 0.8584 - val_accuracy: 0.9196\n",
      "Epoch 14/30\n",
      "14889/14889 [==============================] - 2s 156us/sample - loss: 0.8529 - accuracy: 0.9157 - val_loss: 0.8445 - val_accuracy: 0.9148\n",
      "Epoch 15/30\n",
      "14889/14889 [==============================] - 2s 157us/sample - loss: 0.8486 - accuracy: 0.9134 - val_loss: 0.8350 - val_accuracy: 0.9220\n",
      "Epoch 16/30\n",
      "14889/14889 [==============================] - 2s 157us/sample - loss: 0.8343 - accuracy: 0.9192 - val_loss: 0.8416 - val_accuracy: 0.9236\n",
      "Epoch 17/30\n",
      "14889/14889 [==============================] - 2s 159us/sample - loss: 0.8263 - accuracy: 0.9184 - val_loss: 0.8200 - val_accuracy: 0.9236\n",
      "Epoch 18/30\n",
      "14889/14889 [==============================] - 2s 151us/sample - loss: 0.8184 - accuracy: 0.9217 - val_loss: 0.8133 - val_accuracy: 0.9267\n",
      "Epoch 19/30\n",
      "14889/14889 [==============================] - 2s 152us/sample - loss: 0.8138 - accuracy: 0.9179 - val_loss: 0.8130 - val_accuracy: 0.9228\n",
      "Epoch 20/30\n",
      "14889/14889 [==============================] - 2s 156us/sample - loss: 0.8055 - accuracy: 0.9176 - val_loss: 0.8107 - val_accuracy: 0.9194\n",
      "Epoch 21/30\n",
      "14889/14889 [==============================] - 2s 152us/sample - loss: 0.8198 - accuracy: 0.9117 - val_loss: 0.8016 - val_accuracy: 0.9283\n",
      "Epoch 22/30\n",
      "14889/14889 [==============================] - 2s 156us/sample - loss: 0.7940 - accuracy: 0.9198 - val_loss: 0.7976 - val_accuracy: 0.9301\n",
      "Epoch 23/30\n",
      "14889/14889 [==============================] - 2s 156us/sample - loss: 0.7893 - accuracy: 0.9190 - val_loss: 0.7874 - val_accuracy: 0.9325\n",
      "Epoch 24/30\n",
      "14889/14889 [==============================] - 2s 157us/sample - loss: 0.8330 - accuracy: 0.9075 - val_loss: 0.8170 - val_accuracy: 0.9097\n",
      "Epoch 25/30\n",
      "14889/14889 [==============================] - 2s 156us/sample - loss: 0.8089 - accuracy: 0.9094 - val_loss: 0.7885 - val_accuracy: 0.9254\n",
      "Epoch 26/30\n",
      "14889/14889 [==============================] - 2s 158us/sample - loss: 0.7875 - accuracy: 0.9160 - val_loss: 0.7896 - val_accuracy: 0.9081\n",
      "Epoch 27/30\n",
      "14889/14889 [==============================] - 2s 159us/sample - loss: 0.7838 - accuracy: 0.9164 - val_loss: 0.7783 - val_accuracy: 0.9220\n",
      "Epoch 28/30\n",
      "14889/14889 [==============================] - 2s 157us/sample - loss: 0.7750 - accuracy: 0.9185 - val_loss: 0.7669 - val_accuracy: 0.9252\n",
      "Epoch 29/30\n",
      "14889/14889 [==============================] - 2s 155us/sample - loss: 0.7657 - accuracy: 0.9164 - val_loss: 0.7651 - val_accuracy: 0.9222\n",
      "Epoch 30/30\n",
      "14889/14889 [==============================] - 2s 161us/sample - loss: 0.7629 - accuracy: 0.9210 - val_loss: 0.7544 - val_accuracy: 0.9259\n"
     ]
    }
   ],
   "source": [
    "history = model.fit(X_train_val, y_train_val, epochs=30, batch_size=1024, validation_split=0.25, shuffle=True)"
   ]
  },
  {
   "cell_type": "code",
   "execution_count": 61,
   "metadata": {},
   "outputs": [
    {
     "data": {
      "text/plain": [
       "Text(0.25, 0.9, 'GRU')"
      ]
     },
     "execution_count": 61,
     "metadata": {},
     "output_type": "execute_result"
    },
    {
     "data": {
      "image/png": "[encoded data removed]",
      "text/plain": [
       "<Figure size 432x288 with 1 Axes>"
      ]
     },
     "metadata": {
      "needs_background": "light"
     },
     "output_type": "display_data"
    }
   ],
   "source": [
    "# ROC Plot\n",
    "\n",
    "if 'j_index' in labels: labels.remove('j_index')\n",
    "\n",
    "predict_test = model.predict(X_test)\n",
    "\n",
    "df = pd.DataFrame()\n",
    "\n",
    "fpr = {}\n",
    "tpr = {}\n",
    "auc1 = {}\n",
    "\n",
    "plt.figure()       \n",
    "for i, label in enumerate(labels):\n",
    "    df[label] = y_test[:,i]\n",
    "    df[label + '_pred'] = predict_test[:,i]\n",
    "\n",
    "    fpr[label], tpr[label], threshold = roc_curve(df[label],df[label+'_pred'])\n",
    "\n",
    "    auc1[label] = auc(fpr[label], tpr[label])\n",
    "\n",
    "#     plt.plot(tpr[label],fpr[label],label='%s tagger, AUC = %.1f%%'%(label.replace('j_',''),auc1[label]*100.))\n",
    "    plt.plot(tpr[label],fpr[label],label='%s tagger, AUC = %.1f%%'%(label.replace('j_',''),auc1[label]*100.))\n",
    "plt.semilogy()\n",
    "plt.xlabel(\"Signal Efficiency\")\n",
    "plt.ylabel(\"Background Efficiency\")\n",
    "plt.legend(loc='upper left')\n",
    "# plt.xlabel(\"FPR\")\n",
    "# plt.ylabel(\"TPR\")\n",
    "# plt.legend(loc='lower right')\n",
    "plt.ylim(0.001,1)\n",
    "plt.grid(True)\n",
    "\n",
    "plt.figtext(0.25, 0.90,'GRU',fontweight='bold', wrap=True, horizontalalignment='right', fontsize=14)"
   ]
  },
  {
   "cell_type": "code",
   "execution_count": 62,
   "metadata": {},
   "outputs": [
    {
     "data": {
      "image/png": "[encoded data removed]",
      "text/plain": [
       "<Figure size 720x576 with 1 Axes>"
      ]
     },
     "metadata": {
      "needs_background": "light"
     },
     "output_type": "display_data"
    }
   ],
   "source": [
    "plt.figure(figsize=(10,8))\n",
    "plt.plot(history.history['loss'], linewidth=1)\n",
    "plt.plot(history.history['val_loss'], linewidth=1)\n",
    "plt.title('Model Loss over Epochs')\n",
    "plt.ylabel('Loss')\n",
    "plt.xlabel('Epoch')\n",
    "plt.legend(['training sample loss','validation sample loss'])\n",
    "#plt.savefig('Learning_curve.pdf')\n",
    "plt.show()\n",
    "plt.close()"
   ]
  },
  {
   "cell_type": "markdown",
   "metadata": {},
   "source": [
    "## Add more features to  increase the complexity of GRU model.\n"
   ]
  },
  {
   "cell_type": "code",
   "execution_count": 19,
   "metadata": {},
   "outputs": [],
   "source": [
    "add_features = ['j_mass_mmdt','j_zlogz', 'j_multiplicity','j_c1_b0_mmdt', 'j_c1_b1_mmdt', 'j_c1_b2_mmdt', 'j_c2_b1_mmdt', 'j_c2_b2_mmdt','j_d2_b1_mmdt','j_d2_b2_mmdt', 'j_d2_a1_b1_mmdt', 'j_d2_a1_b2_mmdt','j_m2_b1_mmdt', 'j_m2_b2_mmdt','j_n2_b1_mmdt', 'j_n2_b2_mmdt']\n",
    "add_features_df = pd.DataFrame(treeArray,columns=list(set(add_features)))"
   ]
  },
  {
   "cell_type": "code",
   "execution_count": 20,
   "metadata": {},
   "outputs": [],
   "source": [
    "df = pd.concat([features_df,labels_df,add_features_df],axis=1)\n",
    "df = df.drop_duplicates()"
   ]
  },
  {
   "cell_type": "code",
   "execution_count": 21,
   "metadata": {},
   "outputs": [
    {
     "data": {
      "text/plain": [
       "16"
      ]
     },
     "execution_count": 21,
     "metadata": {},
     "output_type": "execute_result"
    }
   ],
   "source": [
    "len(add_features)"
   ]
  },
  {
   "cell_type": "code",
   "execution_count": 31,
   "metadata": {},
   "outputs": [],
   "source": [
    "MaxParticles = 20\n",
    "l1Reg = 0.0001\n",
    "# Convert to nparray\n",
    "features_new_df = pd.concat([features_df,add_features_df],axis=1)\n",
    "labels_df = labels_df.drop_duplicates()\n",
    "features_val = features_new_df.drop(['j_index'],axis=1).values\n",
    "labels_val = labels_df.drop(['j_index'],axis=1).values\n",
    "\n",
    "features_2dval = np.zeros((len(labels_df), MaxParticles, len(features)+len(add_features) - 1))\n",
    "for i in range(0, len(labels_df)):\n",
    "    features_df_i = features_new_df[features_new_df['j_index'] == labels_df['j_index'].iloc[i]]\n",
    "    index_values = features_df_i.index.values\n",
    "\n",
    "    features_val_i = features_val[np.array(index_values), :]\n",
    "    nParticles = len(features_val_i)\n",
    "    features_val_i = features_val_i[features_val_i[:, 0].argsort()[::-1]]  # sort descending by first value (ptrel, usually)\n",
    "    \n",
    "    if nParticles > MaxParticles:\n",
    "        features_val_i = features_val_i[0:MaxParticles, :]\n",
    "    else:\n",
    "        features_val_i = np.concatenate([features_val_i, np.zeros((MaxParticles - nParticles, len(features)+len(add_features) - 1))])\n",
    "    features_2dval[i, :, :] = features_val_i\n",
    "\n",
    "features_val = features_2dval"
   ]
  },
  {
   "cell_type": "code",
   "execution_count": 32,
   "metadata": {},
   "outputs": [],
   "source": [
    "X_train_val, X_test, y_train_val, y_test = train_test_split(features_val, labels_val, test_size=0.2,random_state=42)"
   ]
  },
  {
   "cell_type": "code",
   "execution_count": 33,
   "metadata": {},
   "outputs": [
    {
     "name": "stdout",
     "output_type": "stream",
     "text": [
      "Model: \"sequential_4\"\n",
      "_________________________________________________________________\n",
      "Layer (type)                 Output Shape              Param #   \n",
      "=================================================================\n",
      "GRU (GRU)                    (None, 20, 72)            20736     \n",
      "_________________________________________________________________\n",
      "flatten_4 (Flatten)          (None, 1440)              0         \n",
      "_________________________________________________________________\n",
      "fc_relu1 (Dense)             (None, 128)               184448    \n",
      "_________________________________________________________________\n",
      "dropout_6 (Dropout)          (None, 128)               0         \n",
      "_________________________________________________________________\n",
      "output_softmax (Dense)       (None, 5)                 645       \n",
      "=================================================================\n",
      "Total params: 205,829\n",
      "Trainable params: 205,829\n",
      "Non-trainable params: 0\n",
      "_________________________________________________________________\n"
     ]
    }
   ],
   "source": [
    "model = models.Sequential()\n",
    "model.add(layers.InputLayer(input_shape=(20,22)))\n",
    "\n",
    "model.add(layers.GRU(units = 72, activation='relu', recurrent_activation='sigmoid', use_bias=True,\n",
    "                      kernel_initializer='lecun_uniform', recurrent_initializer='orthogonal',\n",
    "                      bias_initializer='zeros',  kernel_regularizer=l1(l1Reg),\n",
    "                      recurrent_regularizer=l1(0.001), bias_regularizer=None, activity_regularizer=None,\n",
    "                      kernel_constraint=None, recurrent_constraint=None, bias_constraint=None,\n",
    "#                       dropout=0.001, recurrent_dropout=0.00001,\n",
    "                     return_sequences=True,name='GRU'))\n",
    "model.add(layers.Flatten())\n",
    "model.add(layers.Dense(128, activation='relu', kernel_initializer='lecun_uniform', \n",
    "              name='fc_relu1', kernel_regularizer=l1(l1Reg)))\n",
    "model.add(layers.Dropout(0.1))\n",
    "model.add(layers.Dense(5, activation='softmax', kernel_initializer='lecun_uniform', \n",
    "                        name='output_softmax', kernel_regularizer=l1(l1Reg)))\n",
    "\n",
    "model.summary()"
   ]
  },
  {
   "cell_type": "code",
   "execution_count": 34,
   "metadata": {},
   "outputs": [],
   "source": [
    "learningRate = 1e-4\n",
    "adam = Adam(lr=learningRate)\n",
    "model.compile(optimizer='adam', loss='categorical_crossentropy', metrics=['accuracy'])"
   ]
  },
  {
   "cell_type": "code",
   "execution_count": 35,
   "metadata": {},
   "outputs": [
    {
     "name": "stdout",
     "output_type": "stream",
     "text": [
      "Train on 14889 samples, validate on 4963 samples\n",
      "Epoch 1/30\n",
      "14889/14889 [==============================] - 12s 783us/sample - loss: 58.6234 - accuracy: 0.7090 - val_loss: 17.4682 - val_accuracy: 0.8870\n",
      "Epoch 2/30\n",
      "14889/14889 [==============================] - 2s 114us/sample - loss: 10.3732 - accuracy: 0.8665 - val_loss: 4.4859 - val_accuracy: 0.9240\n",
      "Epoch 3/30\n",
      "14889/14889 [==============================] - 2s 118us/sample - loss: 4.8775 - accuracy: 0.9020 - val_loss: 2.1493 - val_accuracy: 0.9279\n",
      "Epoch 4/30\n",
      "14889/14889 [==============================] - 2s 118us/sample - loss: 3.3228 - accuracy: 0.9190 - val_loss: 2.2482 - val_accuracy: 0.9428\n",
      "Epoch 5/30\n",
      "14889/14889 [==============================] - 2s 116us/sample - loss: 2.1873 - accuracy: 0.9126 - val_loss: 1.1952 - val_accuracy: 0.9470\n",
      "Epoch 6/30\n",
      "14889/14889 [==============================] - 2s 120us/sample - loss: 1.2083 - accuracy: 0.9285 - val_loss: 0.8719 - val_accuracy: 0.9623\n",
      "Epoch 7/30\n",
      "14889/14889 [==============================] - 2s 116us/sample - loss: 0.8797 - accuracy: 0.9458 - val_loss: 0.7190 - val_accuracy: 0.9549\n",
      "Epoch 8/30\n",
      "14889/14889 [==============================] - 2s 115us/sample - loss: 0.7239 - accuracy: 0.9414 - val_loss: 0.6546 - val_accuracy: 0.9601\n",
      "Epoch 9/30\n",
      "14889/14889 [==============================] - 2s 114us/sample - loss: 0.6493 - accuracy: 0.9503 - val_loss: 0.6152 - val_accuracy: 0.9645\n",
      "Epoch 10/30\n",
      "14889/14889 [==============================] - 2s 117us/sample - loss: 0.6260 - accuracy: 0.9531 - val_loss: 0.5904 - val_accuracy: 0.9668\n",
      "Epoch 11/30\n",
      "14889/14889 [==============================] - 2s 116us/sample - loss: 0.5839 - accuracy: 0.9556 - val_loss: 0.5881 - val_accuracy: 0.9591\n",
      "Epoch 12/30\n",
      "14889/14889 [==============================] - 2s 121us/sample - loss: 0.5683 - accuracy: 0.9608 - val_loss: 0.5477 - val_accuracy: 0.9744\n",
      "Epoch 13/30\n",
      "14889/14889 [==============================] - 2s 109us/sample - loss: 0.5510 - accuracy: 0.9629 - val_loss: 0.5388 - val_accuracy: 0.9750\n",
      "Epoch 14/30\n",
      "14889/14889 [==============================] - 2s 114us/sample - loss: 0.5524 - accuracy: 0.9592 - val_loss: 0.5324 - val_accuracy: 0.9758\n",
      "Epoch 15/30\n",
      "14889/14889 [==============================] - 2s 116us/sample - loss: 0.5323 - accuracy: 0.9629 - val_loss: 0.5221 - val_accuracy: 0.9762\n",
      "Epoch 16/30\n",
      "14889/14889 [==============================] - 2s 113us/sample - loss: 0.5186 - accuracy: 0.9652 - val_loss: 0.5173 - val_accuracy: 0.9744\n",
      "Epoch 17/30\n",
      "14889/14889 [==============================] - 2s 119us/sample - loss: 0.5204 - accuracy: 0.9649 - val_loss: 0.5132 - val_accuracy: 0.9766\n",
      "Epoch 18/30\n",
      "14889/14889 [==============================] - 2s 116us/sample - loss: 0.5187 - accuracy: 0.9682 - val_loss: 0.5011 - val_accuracy: 0.9799\n",
      "Epoch 19/30\n",
      "14889/14889 [==============================] - 2s 116us/sample - loss: 0.5129 - accuracy: 0.9687 - val_loss: 0.4819 - val_accuracy: 0.9790\n",
      "Epoch 20/30\n",
      "14889/14889 [==============================] - 2s 118us/sample - loss: 0.4872 - accuracy: 0.9710 - val_loss: 0.4790 - val_accuracy: 0.9823\n",
      "Epoch 21/30\n",
      "14889/14889 [==============================] - 2s 116us/sample - loss: 0.4799 - accuracy: 0.9737 - val_loss: 0.4654 - val_accuracy: 0.9841\n",
      "Epoch 22/30\n",
      "14889/14889 [==============================] - 2s 115us/sample - loss: 0.4703 - accuracy: 0.9750 - val_loss: 0.4652 - val_accuracy: 0.9821\n",
      "Epoch 23/30\n",
      "14889/14889 [==============================] - 2s 116us/sample - loss: 0.4656 - accuracy: 0.9754 - val_loss: 0.4648 - val_accuracy: 0.9805\n",
      "Epoch 24/30\n",
      "14889/14889 [==============================] - 2s 114us/sample - loss: 0.4670 - accuracy: 0.9737 - val_loss: 0.4585 - val_accuracy: 0.9823\n",
      "Epoch 25/30\n",
      "14889/14889 [==============================] - 2s 113us/sample - loss: 0.4556 - accuracy: 0.9763 - val_loss: 0.4503 - val_accuracy: 0.9829\n",
      "Epoch 26/30\n",
      "14889/14889 [==============================] - 2s 117us/sample - loss: 0.4511 - accuracy: 0.9778 - val_loss: 0.4495 - val_accuracy: 0.9817\n",
      "Epoch 27/30\n",
      "14889/14889 [==============================] - 2s 114us/sample - loss: 0.4528 - accuracy: 0.9763 - val_loss: 0.4489 - val_accuracy: 0.9815\n",
      "Epoch 28/30\n",
      "14889/14889 [==============================] - 2s 115us/sample - loss: 0.4533 - accuracy: 0.9759 - val_loss: 0.4492 - val_accuracy: 0.9829\n",
      "Epoch 29/30\n",
      "14889/14889 [==============================] - 2s 114us/sample - loss: 0.4424 - accuracy: 0.9762 - val_loss: 0.4535 - val_accuracy: 0.9799\n",
      "Epoch 30/30\n",
      "14889/14889 [==============================] - 2s 115us/sample - loss: 0.4428 - accuracy: 0.9763 - val_loss: 0.4450 - val_accuracy: 0.9821\n"
     ]
    }
   ],
   "source": [
    "history = model.fit(X_train_val, y_train_val, epochs=30, batch_size=1024, validation_split=0.25, shuffle=True)"
   ]
  },
  {
   "cell_type": "code",
   "execution_count": 39,
   "metadata": {},
   "outputs": [
    {
     "data": {
      "text/plain": [
       "Text(0.25, 0.9, 'GRU_more features')"
      ]
     },
     "execution_count": 39,
     "metadata": {},
     "output_type": "execute_result"
    },
    {
     "data": {
      "image/png": "[encoded data removed]",
      "text/plain": [
       "<Figure size 432x288 with 1 Axes>"
      ]
     },
     "metadata": {
      "needs_background": "light"
     },
     "output_type": "display_data"
    }
   ],
   "source": [
    "# ROC Plot\n",
    "\n",
    "if 'j_index' in labels: labels.remove('j_index')\n",
    "\n",
    "predict_test = model.predict(X_test)\n",
    "\n",
    "df = pd.DataFrame()\n",
    "\n",
    "fpr = {}\n",
    "tpr = {}\n",
    "auc1 = {}\n",
    "\n",
    "plt.figure()       \n",
    "for i, label in enumerate(labels):\n",
    "    df[label] = y_test[:,i]\n",
    "    df[label + '_pred'] = predict_test[:,i]\n",
    "\n",
    "    fpr[label], tpr[label], threshold = roc_curve(df[label],df[label+'_pred'])\n",
    "\n",
    "    auc1[label] = auc(fpr[label], tpr[label])\n",
    "\n",
    "#     plt.plot(tpr[label],fpr[label],label='%s tagger, AUC = %.1f%%'%(label.replace('j_',''),auc1[label]*100.))\n",
    "    plt.plot(tpr[label],fpr[label],label='%s tagger, AUC = %.1f%%'%(label.replace('j_',''),auc1[label]*100.))\n",
    "plt.semilogy()\n",
    "plt.xlabel(\"Signal Efficiency\")\n",
    "plt.ylabel(\"Background Efficiency\")\n",
    "plt.legend(loc='upper left')\n",
    "# plt.xlabel(\"FPR\")\n",
    "# plt.ylabel(\"TPR\")\n",
    "# plt.legend(loc='lower right')\n",
    "plt.ylim(0.001,1)\n",
    "plt.grid(True)\n",
    "\n",
    "plt.figtext(0.25, 0.90,'GRU_more features',fontweight='bold', wrap=True, horizontalalignment='right', fontsize=14)"
   ]
  },
  {
   "cell_type": "code",
   "execution_count": 37,
   "metadata": {},
   "outputs": [
    {
     "data": {
      "image/png": "[encoded data removed]",
      "text/plain": [
       "<Figure size 720x576 with 1 Axes>"
      ]
     },
     "metadata": {
      "needs_background": "light"
     },
     "output_type": "display_data"
    }
   ],
   "source": [
    "plt.figure(figsize=(10,8))\n",
    "plt.plot(history.history['loss'], linewidth=1)\n",
    "plt.plot(history.history['val_loss'], linewidth=1)\n",
    "plt.title('Model Loss over Epochs_GRU_more feats')\n",
    "plt.ylabel('Loss')\n",
    "plt.xlabel('Epoch')\n",
    "plt.legend(['training sample loss','validation sample loss'])\n",
    "#plt.savefig('Learning_curve.pdf')\n",
    "plt.show()\n",
    "plt.close()"
   ]
  },
  {
   "cell_type": "code",
   "execution_count": null,
   "metadata": {},
   "outputs": [],
   "source": []
  }
 ],
 "metadata": {
  "kernelspec": {
   "display_name": "tf2",
   "language": "python",
   "name": "tf2"
  },
  "language_info": {
   "codemirror_mode": {
    "name": "ipython",
    "version": 3
   },
   "file_extension": ".py",
   "mimetype": "text/x-python",
   "name": "python",
   "nbconvert_exporter": "python",
   "pygments_lexer": "ipython3",
   "version": "3.7.6"
  }
 },
 "nbformat": 4,
 "nbformat_minor": 4
}
