{
 "cells": [
  {
   "cell_type": "code",
   "execution_count": 2,
   "metadata": {},
   "outputs": [],
   "source": [
    "import h5py\n",
    "import pandas as pd\n",
    "import numpy as np\n",
    "import matplotlib.pyplot as plt\n",
    "from tqdm import tqdm"
   ]
  },
  {
   "cell_type": "code",
   "execution_count": 3,
   "metadata": {},
   "outputs": [],
   "source": [
    "df = pd.read_hdf('data/v0/train.h5',key='table')"
   ]
  },
  {
   "cell_type": "code",
   "execution_count": 4,
   "metadata": {
    "scrolled": true
   },
   "outputs": [
    {
     "data": {
      "text/plain": [
       "(1211000, 800)"
      ]
     },
     "execution_count": 4,
     "metadata": {},
     "output_type": "execute_result"
    }
   ],
   "source": [
    "arr = df.iloc[:,:-6].to_numpy()\n",
    "arr.shape"
   ]
  },
  {
   "cell_type": "code",
   "execution_count": 5,
   "metadata": {},
   "outputs": [
    {
     "data": {
      "text/plain": [
       "(242200000, 4)"
      ]
     },
     "execution_count": 5,
     "metadata": {},
     "output_type": "execute_result"
    }
   ],
   "source": [
    "arr = arr.reshape(-1,4)\n",
    "arr.shape"
   ]
  },
  {
   "cell_type": "code",
   "execution_count": 6,
   "metadata": {},
   "outputs": [
    {
     "data": {
      "text/plain": [
       "<bound method DataFrame.info of                     E          PX          PY          PZ  j_index  j_t\n",
       "0          474.071136 -250.347031 -223.651962 -334.738098        0    0\n",
       "1          103.236237  -48.866222  -56.790775  -71.025490        0    0\n",
       "2          105.255569  -55.415001  -49.968887  -74.236267        0    0\n",
       "3           40.176777  -21.760696  -18.717611  -28.112215        0    0\n",
       "4           22.428583  -11.835756  -10.374107  -15.979177        0    0\n",
       "...               ...         ...         ...         ...      ...  ...\n",
       "242199995    0.000000    0.000000    0.000000    0.000000  1210999    1\n",
       "242199996    0.000000    0.000000    0.000000    0.000000  1210999    1\n",
       "242199997    0.000000    0.000000    0.000000    0.000000  1210999    1\n",
       "242199998    0.000000    0.000000    0.000000    0.000000  1210999    1\n",
       "242199999    0.000000    0.000000    0.000000    0.000000  1210999    1\n",
       "\n",
       "[242200000 rows x 6 columns]>"
      ]
     },
     "execution_count": 6,
     "metadata": {},
     "output_type": "execute_result"
    }
   ],
   "source": [
    "par_df= pd.DataFrame(data=arr, columns=['E','PX','PY','PZ'])\n",
    "\n",
    "tempArr =np.repeat(np.array([i for i in range(df.shape[0])]),200)\n",
    "par_df['j_index'] = tempArr\n",
    "\n",
    "par_df['j_t'] = np.repeat(df['is_signal_new'].values,200)\n",
    "par_df.info"
   ]
  },
  {
   "cell_type": "code",
   "execution_count": 7,
   "metadata": {},
   "outputs": [
    {
     "data": {
      "text/plain": [
       "(59398621, 6)"
      ]
     },
     "execution_count": 7,
     "metadata": {},
     "output_type": "execute_result"
    }
   ],
   "source": [
    "par_df = par_df.loc[~(par_df.iloc[:,:-2]==0).all(axis=1),:]\n",
    "par_df = par_df.reset_index(drop=True)\n",
    "del df\n",
    "par_df.shape"
   ]
  },
  {
   "cell_type": "code",
   "execution_count": 8,
   "metadata": {},
   "outputs": [
    {
     "name": "stderr",
     "output_type": "stream",
     "text": [
      "D:\\Softwares\\Anacoda\\lib\\site-packages\\pandas\\core\\series.py:679: RuntimeWarning: invalid value encountered in arcsin\n",
      "  result = getattr(ufunc, method)(*inputs, **kwargs)\n"
     ]
    }
   ],
   "source": [
    "# jet level features\n",
    "jet_gp = par_df.groupby(['j_index'])\n",
    "\n",
    "j_px = jet_gp['PX'].sum()\n",
    "j_py = jet_gp['PY'].sum()\n",
    "j_pz = jet_gp['PZ'].sum()\n",
    "j_e  = jet_gp['E'].sum()\n",
    "\n",
    "j_pt = (j_px**2+j_py**2)**.5\n",
    "j_mass = (j_e**2-j_pt**2-j_pz**2)**.5\n",
    "j_phi = np.arcsin(j_py/j_pt)\n",
    "j_eta = np.arcsinh(j_pz/j_pt)\n",
    "\n",
    "# j_theta = np.arctan2(j_py, j_px)"
   ]
  },
  {
   "cell_type": "code",
   "execution_count": null,
   "metadata": {},
   "outputs": [],
   "source": []
  },
  {
   "cell_type": "code",
   "execution_count": 14,
   "metadata": {},
   "outputs": [],
   "source": [
    "temp = (j_px[0]*par_df.loc[0,'PX']+j_py[0]*par_df.loc[0,'PY']+j_pz[0]*par_df.loc[0,'PZ'])/((j_px[0]**2+j_py[0]**2+j_pz[0]**2)**.5)/((par_df.loc[0,'PX']**2+par_df.loc[0,'PY']**2+par_df.loc[0,'PZ']**2)**.5)"
   ]
  },
  {
   "cell_type": "code",
   "execution_count": 17,
   "metadata": {},
   "outputs": [
    {
     "data": {
      "text/plain": [
       "0.009299711826926139"
      ]
     },
     "execution_count": 17,
     "metadata": {},
     "output_type": "execute_result"
    }
   ],
   "source": [
    "np.arccos(temp)"
   ]
  },
  {
   "cell_type": "code",
   "execution_count": null,
   "metadata": {},
   "outputs": [],
   "source": []
  },
  {
   "cell_type": "code",
   "execution_count": 8,
   "metadata": {},
   "outputs": [
    {
     "data": {
      "text/html": [
       "<div>\n",
       "<style scoped>\n",
       "    .dataframe tbody tr th:only-of-type {\n",
       "        vertical-align: middle;\n",
       "    }\n",
       "\n",
       "    .dataframe tbody tr th {\n",
       "        vertical-align: top;\n",
       "    }\n",
       "\n",
       "    .dataframe thead th {\n",
       "        text-align: right;\n",
       "    }\n",
       "</style>\n",
       "<table border=\"1\" class=\"dataframe\">\n",
       "  <thead>\n",
       "    <tr style=\"text-align: right;\">\n",
       "      <th></th>\n",
       "      <th>E</th>\n",
       "      <th>PX</th>\n",
       "      <th>PY</th>\n",
       "      <th>PZ</th>\n",
       "      <th>j_index</th>\n",
       "      <th>j_t</th>\n",
       "      <th>j_pt</th>\n",
       "      <th>j_e</th>\n",
       "      <th>j_mass</th>\n",
       "      <th>j_eta</th>\n",
       "      <th>j_phi</th>\n",
       "      <th>j_theta</th>\n",
       "    </tr>\n",
       "  </thead>\n",
       "  <tbody>\n",
       "    <tr>\n",
       "      <th>0</th>\n",
       "      <td>474.071136</td>\n",
       "      <td>-250.347031</td>\n",
       "      <td>-223.651962</td>\n",
       "      <td>-334.738098</td>\n",
       "      <td>0</td>\n",
       "      <td>0</td>\n",
       "      <td>617.077006</td>\n",
       "      <td>869.288696</td>\n",
       "      <td>37.394853</td>\n",
       "      <td>-0.874543</td>\n",
       "      <td>-0.741334</td>\n",
       "      <td>-2.400258</td>\n",
       "    </tr>\n",
       "    <tr>\n",
       "      <th>1</th>\n",
       "      <td>103.236237</td>\n",
       "      <td>-48.866222</td>\n",
       "      <td>-56.790775</td>\n",
       "      <td>-71.025490</td>\n",
       "      <td>0</td>\n",
       "      <td>0</td>\n",
       "      <td>617.077006</td>\n",
       "      <td>869.288696</td>\n",
       "      <td>37.394853</td>\n",
       "      <td>-0.874543</td>\n",
       "      <td>-0.741334</td>\n",
       "      <td>-2.400258</td>\n",
       "    </tr>\n",
       "    <tr>\n",
       "      <th>2</th>\n",
       "      <td>105.255569</td>\n",
       "      <td>-55.415001</td>\n",
       "      <td>-49.968887</td>\n",
       "      <td>-74.236267</td>\n",
       "      <td>0</td>\n",
       "      <td>0</td>\n",
       "      <td>617.077006</td>\n",
       "      <td>869.288696</td>\n",
       "      <td>37.394853</td>\n",
       "      <td>-0.874543</td>\n",
       "      <td>-0.741334</td>\n",
       "      <td>-2.400258</td>\n",
       "    </tr>\n",
       "    <tr>\n",
       "      <th>3</th>\n",
       "      <td>40.176777</td>\n",
       "      <td>-21.760696</td>\n",
       "      <td>-18.717611</td>\n",
       "      <td>-28.112215</td>\n",
       "      <td>0</td>\n",
       "      <td>0</td>\n",
       "      <td>617.077006</td>\n",
       "      <td>869.288696</td>\n",
       "      <td>37.394853</td>\n",
       "      <td>-0.874543</td>\n",
       "      <td>-0.741334</td>\n",
       "      <td>-2.400258</td>\n",
       "    </tr>\n",
       "    <tr>\n",
       "      <th>4</th>\n",
       "      <td>22.428583</td>\n",
       "      <td>-11.835756</td>\n",
       "      <td>-10.374107</td>\n",
       "      <td>-15.979177</td>\n",
       "      <td>0</td>\n",
       "      <td>0</td>\n",
       "      <td>617.077006</td>\n",
       "      <td>869.288696</td>\n",
       "      <td>37.394853</td>\n",
       "      <td>-0.874543</td>\n",
       "      <td>-0.741334</td>\n",
       "      <td>-2.400258</td>\n",
       "    </tr>\n",
       "  </tbody>\n",
       "</table>\n",
       "</div>"
      ],
      "text/plain": [
       "            E          PX          PY          PZ  j_index  j_t        j_pt  \\\n",
       "0  474.071136 -250.347031 -223.651962 -334.738098        0    0  617.077006   \n",
       "1  103.236237  -48.866222  -56.790775  -71.025490        0    0  617.077006   \n",
       "2  105.255569  -55.415001  -49.968887  -74.236267        0    0  617.077006   \n",
       "3   40.176777  -21.760696  -18.717611  -28.112215        0    0  617.077006   \n",
       "4   22.428583  -11.835756  -10.374107  -15.979177        0    0  617.077006   \n",
       "\n",
       "          j_e     j_mass     j_eta     j_phi   j_theta  \n",
       "0  869.288696  37.394853 -0.874543 -0.741334 -2.400258  \n",
       "1  869.288696  37.394853 -0.874543 -0.741334 -2.400258  \n",
       "2  869.288696  37.394853 -0.874543 -0.741334 -2.400258  \n",
       "3  869.288696  37.394853 -0.874543 -0.741334 -2.400258  \n",
       "4  869.288696  37.394853 -0.874543 -0.741334 -2.400258  "
      ]
     },
     "execution_count": 8,
     "metadata": {},
     "output_type": "execute_result"
    }
   ],
   "source": [
    "jet_feats = ['j_pt','j_e','j_mass','j_phi','j_eta','j_theta']\n",
    "for f in tqdm(jet_feats):\n",
    "    eval(f).name = f\n",
    "    par_df = par_df.join(f, on='j_index')\n",
    "\n",
    "par_df.head()"
   ]
  },
  {
   "cell_type": "code",
   "execution_count": 9,
   "metadata": {},
   "outputs": [
    {
     "name": "stderr",
     "output_type": "stream",
     "text": [
      "100%|███████████████████████████████████████████████████████████████████| 59398621/59398621 [10:04<00:00, 98189.89it/s]\n",
      "100%|██████████████████████████████████████████████████████████████████████████████████| 10/10 [02:39<00:00, 15.97s/it]\n"
     ]
    }
   ],
   "source": [
    "# particle level features\n",
    "j1_pt = (par_df['PX'].values**2+par_df['PY'].values**2)**.5\n",
    "j1_phi = np.arcsin(par_df['PY'].values/par_df['j_pt'].values)\n",
    "j1_eta = np.arcsinh(par_df['PZ'].values/par_df['j_pt'].values)\n",
    "\n",
    "j1_theta = 2*np.arctan(np.exp(-par_df.j1_eta))\n",
    "# j1_theta = np.arctan2(par_df['PY'].values, par_df['PX'].values)\n",
    "# for i in tqdm(range(j1_theta.shape[0])):\n",
    "#     if j1_theta[i] < 0:\n",
    "#         j1_theta[i] += 2 * np.pi\n",
    "\n",
    "# j1_etarot = j1_eta * np.cos(np.pi - j1_theta) - j1_phi * np.sin(np.pi - j1_theta)\n",
    "# j1_phirot = j1_eta * np.sin(np.pi - j1_theta) + j1_phi * np.cos(np.pi - j1_theta)\n",
    "\n",
    "j1_etarel = j1_eta - par_df['j_eta'].values\n",
    "j1_phirel = j1_phi - par_df['j_phi'].values\n",
    "j1_ptrel = j1_pt / par_df['j_pt'].values\n",
    "j1_erel = par_df['E'].values / par_df['j_e'].values\n",
    "j1_costhetarel = np.cos(j1_theta-par_df['j_theta'].values)\n",
    "\n",
    "cIndex = np.array([],dtype='int8')\n",
    "for i in tqdm(np.unique(par_df['j_index'])):\n",
    "    new_cIndex = np.arange(par_df[par_df['j_index']==i].shape[0])\n",
    "    cIndex = np.append(cIndex, new_cIndex)\n",
    "_df['constituents_index'] = cIndex\n",
    "\n",
    "par_feats = ['j1_pt','j1_phi','j1_eta','j1_etarot','j1_phirot','j1_etarel','j1_phirel','j1_ptrel','j1_erel','j1_costhetarel']\n",
    "for f in tqdm(par_feats):\n",
    "    par_df[f] = eval(f)"
   ]
  },
  {
   "cell_type": "code",
   "execution_count": null,
   "metadata": {},
   "outputs": [],
   "source": [
    "par_df.drop(['E','PX','PY','PZ','j_e','j_eta','j_phi','j_theta'],axis=1, inplace=True)"
   ]
  },
  {
   "cell_type": "code",
   "execution_count": 1,
   "metadata": {},
   "outputs": [
    {
     "ename": "NameError",
     "evalue": "name 'j_theta' is not defined",
     "output_type": "error",
     "traceback": [
      "\u001b[1;31m---------------------------------------------------------------------------\u001b[0m",
      "\u001b[1;31mNameError\u001b[0m                                 Traceback (most recent call last)",
      "\u001b[1;32m<ipython-input-1-47275fc62e4b>\u001b[0m in \u001b[0;36m<module>\u001b[1;34m\u001b[0m\n\u001b[1;32m----> 1\u001b[1;33m \u001b[0mj_theta\u001b[0m\u001b[1;33m[\u001b[0m\u001b[1;33m:\u001b[0m\u001b[1;36m20\u001b[0m\u001b[1;33m]\u001b[0m\u001b[1;33m\u001b[0m\u001b[1;33m\u001b[0m\u001b[0m\n\u001b[0m",
      "\u001b[1;31mNameError\u001b[0m: name 'j_theta' is not defined"
     ]
    }
   ],
   "source": []
  },
  {
   "cell_type": "code",
   "execution_count": null,
   "metadata": {},
   "outputs": [],
   "source": []
  }
 ],
 "metadata": {
  "kernelspec": {
   "display_name": "Python 3",
   "language": "python",
   "name": "python3"
  },
  "language_info": {
   "codemirror_mode": {
    "name": "ipython",
    "version": 3
   },
   "file_extension": ".py",
   "mimetype": "text/x-python",
   "name": "python",
   "nbconvert_exporter": "python",
   "pygments_lexer": "ipython3",
   "version": "3.7.6"
  }
 },
 "nbformat": 4,
 "nbformat_minor": 4
}
