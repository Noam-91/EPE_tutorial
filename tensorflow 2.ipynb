{
 "cells": [
  {
   "cell_type": "code",
   "execution_count": 21,
   "metadata": {},
   "outputs": [],
   "source": [
    "from __future__ import absolute_import, division, print_function, unicode_literals\n",
    "import tensorflow as tf\n",
    "from tensorflow.keras import datasets, layers, models\n",
    "import h5py\n",
    "import pandas as pd\n",
    "import numpy as np\n",
    "from tensorflow.keras.regularizers import l1\n",
    "from tensorflow.keras.optimizers import Adam\n",
    "from sklearn.model_selection import train_test_split\n",
    "from sklearn import preprocessing\n"
   ]
  },
  {
   "cell_type": "code",
   "execution_count": 2,
   "metadata": {},
   "outputs": [],
   "source": [
    "f = h5py.File('./data/processed-pythia82-lhc13-all-pt1-50k-r1_h022_e0175_t220_nonu_withPars_truth.z', 'r')\n",
    "treeArray = f['t_allpar_new'][()]"
   ]
  },
  {
   "cell_type": "code",
   "execution_count": 3,
   "metadata": {},
   "outputs": [],
   "source": [
    "features = ['j1_ptrel','j1_etarot','j1_phirot','j1_erel','j1_deltaR','j1_costhetarel','j1_pdgid','j_index']\n",
    "labels = ['j_g','j_q','j_w','j_z','j_t','j_index']"
   ]
  },
  {
   "cell_type": "code",
   "execution_count": 4,
   "metadata": {},
   "outputs": [],
   "source": [
    "features_df = pd.DataFrame(treeArray,columns=list(set(features)))\n",
    "labels_df = pd.DataFrame(treeArray,columns=list(set(labels)))\n",
    "df = pd.concat([features_df,labels_df],axis=1)\n",
    "df = df.drop_duplicates()\n"
   ]
  },
  {
   "cell_type": "code",
   "execution_count": 5,
   "metadata": {},
   "outputs": [],
   "source": [
    "MaxParticles = 100\n",
    "# Convert to nparray\n",
    "labels_df = labels_df.drop_duplicates()\n",
    "features_val = features_df.drop(['j_index'],axis=1).values\n",
    "labels_val = labels_df.drop(['j_index'],axis=1).values\n",
    "\n",
    "features_2dval = np.zeros((len(labels_df), MaxParticles, len(features) - 1))\n",
    "for i in range(0, len(labels_df)):\n",
    "    features_df_i = features_df[features_df['j_index'] == labels_df['j_index'].iloc[i]]\n",
    "    index_values = features_df_i.index.values\n",
    "\n",
    "    features_val_i = features_val[np.array(index_values), :]\n",
    "    nParticles = len(features_val_i)\n",
    "    features_val_i = features_val_i[features_val_i[:, 0].argsort()[::-1]]  # sort descending by first value (ptrel, usually)\n",
    "    \n",
    "    if nParticles > MaxParticles:\n",
    "        features_val_i = features_val_i[0:MaxParticles, :]\n",
    "    else:\n",
    "        features_val_i = np.concatenate([features_val_i, np.zeros((MaxParticles - nParticles, len(features) - 1))])\n",
    "    features_2dval[i, :, :] = features_val_i\n",
    "\n",
    "features_val = features_2dval\n"
   ]
  },
  {
   "cell_type": "code",
   "execution_count": 6,
   "metadata": {},
   "outputs": [],
   "source": [
    "X_train_val, X_test, y_train_val, y_test = train_test_split(features_val, labels_val, test_size=0.2,random_state=42)"
   ]
  },
  {
   "cell_type": "code",
   "execution_count": 7,
   "metadata": {},
   "outputs": [],
   "source": [
    "# Normalization\n",
    "reshape_X_train_val = X_train_val.reshape(X_train_val.shape[0] * X_train_val.shape[1], X_train_val.shape[2])\n",
    "scaler = preprocessing.StandardScaler().fit(reshape_X_train_val)\n",
    "for p in range(X_train_val.shape[1]):\n",
    "    X_train_val[:, p, :] = scaler.transform(X_train_val[:, p, :])\n",
    "    X_test[:, p, :] = scaler.transform(X_test[:, p, :])\n",
    "if 'j_index' in labels:\n",
    "        labels = labels[:-1]"
   ]
  },
  {
   "cell_type": "code",
   "execution_count": 8,
   "metadata": {},
   "outputs": [],
   "source": [
    "l1Reg = 0.0001"
   ]
  },
  {
   "cell_type": "code",
   "execution_count": 19,
   "metadata": {},
   "outputs": [
    {
     "name": "stdout",
     "output_type": "stream",
     "text": [
      "Model: \"sequential_1\"\n",
      "_________________________________________________________________\n",
      "Layer (type)                 Output Shape              Param #   \n",
      "=================================================================\n",
      "conv1_relu_1 (Conv1D)        (None, 100, 32)           8992      \n",
      "_________________________________________________________________\n",
      "conv1_relu_2 (Conv1D)        (None, 100, 32)           40992     \n",
      "_________________________________________________________________\n",
      "conv1_relu_3 (Conv1D)        (None, 100, 32)           40992     \n",
      "_________________________________________________________________\n",
      "flatten_1 (Flatten)          (None, 3200)              0         \n",
      "_________________________________________________________________\n",
      "fc1_relu (Dense)             (None, 50)                160050    \n",
      "_________________________________________________________________\n",
      "output_softmax (Dense)       (None, 5)                 255       \n",
      "=================================================================\n",
      "Total params: 251,281\n",
      "Trainable params: 251,281\n",
      "Non-trainable params: 0\n",
      "_________________________________________________________________\n"
     ]
    }
   ],
   "source": [
    "model = models.Sequential()\n",
    "model.add(layers.Conv1D(filters=32, kernel_size=40, strides=1, padding='same',\n",
    "               kernel_initializer='he_normal', use_bias=True, name='conv1_relu_1',\n",
    "               activation = 'relu', kernel_regularizer=l1(l1Reg),input_shape=(100, 7)))\n",
    "model.add(layers.Conv1D(filters=32, kernel_size=40, strides=1, padding='same',\n",
    "               kernel_initializer='he_normal', use_bias=True, name='conv1_relu_2',\n",
    "               activation = 'relu', kernel_regularizer=l1(l1Reg)))\n",
    "model.add(layers.Conv1D(filters=32, kernel_size=40, strides=1, padding='same',\n",
    "               kernel_initializer='he_normal', use_bias=True, name='conv1_relu_3',\n",
    "               activation = 'relu', kernel_regularizer=l1(l1Reg)))\n",
    "model.add(layers.Flatten())\n",
    "model.add(layers.Dense(50, activation='relu', kernel_initializer='lecun_uniform', \n",
    "              name='fc1_relu', kernel_regularizer=l1(l1Reg)))\n",
    "model.add(layers.Dense(5, activation='softmax', kernel_initializer='lecun_uniform', \n",
    "                        name='output_softmax', kernel_regularizer=l1(l1Reg)))\n",
    "\n",
    "model.summary()"
   ]
  },
  {
   "cell_type": "code",
   "execution_count": 22,
   "metadata": {},
   "outputs": [],
   "source": [
    "learningRate = 1e-4\n",
    "adam = Adam(lr=learningRate)\n",
    "model.compile(optimizer='adam', loss='categorical_crossentropy', metrics=['accuracy'])"
   ]
  },
  {
   "cell_type": "code",
   "execution_count": null,
   "metadata": {},
   "outputs": [
    {
     "name": "stdout",
     "output_type": "stream",
     "text": [
      "Train on 19852 samples\n",
      "Epoch 1/100\n",
      "19852/19852 [==============================] - 32s 2ms/sample - loss: 0.4735 - accuracy: 0.9453\n",
      "Epoch 2/100\n",
      "19852/19852 [==============================] - 31s 2ms/sample - loss: 0.2253 - accuracy: 0.9628\n",
      "Epoch 3/100\n",
      "19852/19852 [==============================] - 32s 2ms/sample - loss: 0.1576 - accuracy: 0.9715\n",
      "Epoch 4/100\n",
      "19852/19852 [==============================] - 32s 2ms/sample - loss: 0.1188 - accuracy: 0.9766\n",
      "Epoch 5/100\n",
      "19852/19852 [==============================] - 31s 2ms/sample - loss: 0.0981 - accuracy: 0.9792\n",
      "Epoch 6/100\n",
      "19852/19852 [==============================] - 31s 2ms/sample - loss: 0.0903 - accuracy: 0.9809\n",
      "Epoch 7/100\n",
      "19852/19852 [==============================] - ETA: 0s - loss: 0.0837 - accuracy: 0.98 - 31s 2ms/sample - loss: 0.0837 - accuracy: 0.9825\n",
      "Epoch 8/100\n",
      "19852/19852 [==============================] - 31s 2ms/sample - loss: 0.0775 - accuracy: 0.9845\n",
      "Epoch 9/100\n",
      "19852/19852 [==============================] - 31s 2ms/sample - loss: 0.0750 - accuracy: 0.9852\n",
      "Epoch 10/100\n",
      "19852/19852 [==============================] - 31s 2ms/sample - loss: 0.0684 - accuracy: 0.9856\n",
      "Epoch 11/100\n",
      "19852/19852 [==============================] - 31s 2ms/sample - loss: 0.0674 - accuracy: 0.9862\n",
      "Epoch 12/100\n",
      "19852/19852 [==============================] - 32s 2ms/sample - loss: 0.0706 - accuracy: 0.9858\n",
      "Epoch 13/100\n",
      "19852/19852 [==============================] - 31s 2ms/sample - loss: 0.0642 - accuracy: 0.9870\n",
      "Epoch 14/100\n",
      "19852/19852 [==============================] - 31s 2ms/sample - loss: 0.0626 - accuracy: 0.9878\n",
      "Epoch 15/100\n",
      "19852/19852 [==============================] - 31s 2ms/sample - loss: 0.0630 - accuracy: 0.9868\n",
      "Epoch 16/100\n",
      "19852/19852 [==============================] - 32s 2ms/sample - loss: 0.0587 - accuracy: 0.9885\n",
      "Epoch 17/100\n",
      "15392/19852 [======================>.......] - ETA: 7s - loss: 0.0630 - accuracy: 0.9854"
     ]
    }
   ],
   "source": [
    "model.fit(X_train_val, y_train_val, epochs=100)"
   ]
  },
  {
   "cell_type": "code",
   "execution_count": 12,
   "metadata": {},
   "outputs": [],
   "source": [
    "import matplotlib.pyplot as plt\n",
    "from sklearn.metrics import roc_curve, auc"
   ]
  },
  {
   "cell_type": "code",
   "execution_count": 18,
   "metadata": {
    "scrolled": false
   },
   "outputs": [
    {
     "data": {
      "text/plain": [
       "Text(0.25, 0.9, 'Conv_1d_notebook_version')"
      ]
     },
     "execution_count": 18,
     "metadata": {},
     "output_type": "execute_result"
    },
    {
     "data": {
      "image/png": "[encoded data removed]",
      "text/plain": [
       "<Figure size 432x288 with 1 Axes>"
      ]
     },
     "metadata": {
      "needs_background": "light"
     },
     "output_type": "display_data"
    }
   ],
   "source": [
    "if 'j_index' in labels: labels.remove('j_index')\n",
    "\n",
    "predict_test = model.predict(X_test)\n",
    "\n",
    "df = pd.DataFrame()\n",
    "\n",
    "fpr = {}\n",
    "tpr = {}\n",
    "auc1 = {}\n",
    "\n",
    "plt.figure()       \n",
    "for i, label in enumerate(labels):\n",
    "    df[label] = y_test[:,i]\n",
    "    df[label + '_pred'] = predict_test[:,i]\n",
    "\n",
    "    fpr[label], tpr[label], threshold = roc_curve(df[label],df[label+'_pred'])\n",
    "\n",
    "    auc1[label] = auc(fpr[label], tpr[label])\n",
    "\n",
    "    plt.plot(tpr[label],fpr[label],label='%s tagger, AUC = %.1f%%'%(label.replace('j_',''),auc1[label]*100.))\n",
    "plt.semilogy()\n",
    "plt.xlabel(\"Signal Efficiency\")\n",
    "plt.ylabel(\"Background Efficiency\")\n",
    "plt.ylim(0.001,1)\n",
    "plt.grid(True)\n",
    "plt.legend(loc='upper left')\n",
    "plt.figtext(0.25, 0.90,'Conv_1d_notebook_version',fontweight='bold', wrap=True, horizontalalignment='right', fontsize=14)"
   ]
  },
  {
   "cell_type": "code",
   "execution_count": null,
   "metadata": {},
   "outputs": [],
   "source": []
  }
 ],
 "metadata": {
  "kernelspec": {
   "display_name": "tf2",
   "language": "python",
   "name": "tf2"
  },
  "language_info": {
   "codemirror_mode": {
    "name": "ipython",
    "version": 3
   },
   "file_extension": ".py",
   "mimetype": "text/x-python",
   "name": "python",
   "nbconvert_exporter": "python",
   "pygments_lexer": "ipython3",
   "version": "3.7.6"
  }
 },
 "nbformat": 4,
 "nbformat_minor": 4
}
