{
 "cells": [
  {
   "cell_type": "code",
   "execution_count": 1,
   "metadata": {},
   "outputs": [],
   "source": [
    "import h5py\n",
    "import pandas as pd\n",
    "import numpy as np"
   ]
  },
  {
   "cell_type": "code",
   "execution_count": 2,
   "metadata": {},
   "outputs": [],
   "source": [
    "f = h5py.File('./data/processed-pythia82-lhc13-all-pt1-50k-r1_h022_e0175_t220_nonu_withPars_truth_0.z', 'r')\n",
    "treeArray = f['t_allpar_new'][()]\n",
    "\n",
    "features = ['j1_px', 'j1_py', 'j1_pz', 'j1_e', 'j1_erel', 'j1_pt', 'j1_ptrel', 'j1_eta', 'j1_etarel', 'j1_etarot', 'j1_phi', 'j1_phirel', 'j1_phirot', 'j1_deltaR', 'j1_costheta', 'j1_costhetarel','j_index']\n",
    "labels = ['j_g','j_q','j_w','j_z','j_t','j_index']\n",
    "\n",
    "features_df = pd.DataFrame(treeArray,columns=list(set(features)))\n",
    "labels_df = pd.DataFrame(treeArray,columns=list(set(labels)))\n",
    "df = pd.concat([features_df.drop(['j_index'],axis=1),labels_df],axis=1)\n",
    "df = df.reindex(features[:-1]+labels, axis=1)"
   ]
  },
  {
   "cell_type": "code",
   "execution_count": 3,
   "metadata": {},
   "outputs": [],
   "source": [
    "def j_transform(MaxParticles, df, features, labels):\n",
    "    '''\n",
    "    df should have feature-cols, label-cols and j_index.\n",
    "    features and labels also should have j_index.\n",
    "    '''\n",
    "    df['label'] = df[labels[:-1]].values.tolist()\n",
    "    df = df.drop(labels[:-1],axis=1)\n",
    "    \n",
    "    cols = features[:-1]\n",
    "    \n",
    "    jBased_df = pd.DataFrame(columns=cols+['label'])\n",
    "    jBased_df = jBased_df.astype('object')\n",
    "    \n",
    "\n",
    "    for idx, jetId in enumerate(set(df.j_index)):\n",
    "        nParticles = df[df['j_index']==jetId].shape[0]\n",
    "        j_df = df[df['j_index']==jetId].sort_values(by=['j1_ptrel'], ascending=False)    # sort descending by ptrel\n",
    "        \n",
    "        if nParticles >= MaxParticles:\n",
    "            j_df = j_df.iloc[:MaxParticles,:]\n",
    "        else:\n",
    "            emptyRows = pd.DataFrame(0,index=np.arange(MaxParticles-nParticles),columns = j_df.columns)\n",
    "            j_df = pd.concat([j_df,emptyRows],axis=0)\n",
    "            \n",
    "        for col in cols:\n",
    "            jBased_df.loc[idx,col] = j_df[col].values\n",
    "        jBased_df.loc[idx,'label'] = j_df.label.iloc[0]                         \n",
    "\n",
    "    return jBased_df"
   ]
  },
  {
   "cell_type": "code",
   "execution_count": 4,
   "metadata": {},
   "outputs": [
    {
     "name": "stdout",
     "output_type": "stream",
     "text": [
      "<class 'pandas.core.frame.DataFrame'>\n",
      "Int64Index: 98769 entries, 0 to 98768\n",
      "Data columns (total 17 columns):\n",
      " #   Column          Non-Null Count  Dtype \n",
      "---  ------          --------------  ----- \n",
      " 0   j1_px           98769 non-null  object\n",
      " 1   j1_py           98769 non-null  object\n",
      " 2   j1_pz           98769 non-null  object\n",
      " 3   j1_e            98769 non-null  object\n",
      " 4   j1_erel         98769 non-null  object\n",
      " 5   j1_pt           98769 non-null  object\n",
      " 6   j1_ptrel        98769 non-null  object\n",
      " 7   j1_eta          98769 non-null  object\n",
      " 8   j1_etarel       98769 non-null  object\n",
      " 9   j1_etarot       98769 non-null  object\n",
      " 10  j1_phi          98769 non-null  object\n",
      " 11  j1_phirel       98769 non-null  object\n",
      " 12  j1_phirot       98769 non-null  object\n",
      " 13  j1_deltaR       98769 non-null  object\n",
      " 14  j1_costheta     98769 non-null  object\n",
      " 15  j1_costhetarel  98769 non-null  object\n",
      " 16  label           98769 non-null  object\n",
      "dtypes: object(17)\n",
      "memory usage: 16.1+ MB\n"
     ]
    }
   ],
   "source": [
    "MaxParticles = 100\n",
    "\n",
    "\n",
    "jet_df = j_transform(MaxParticles,df,features,labels)\n",
    "jet_df.info()"
   ]
  },
  {
   "cell_type": "code",
   "execution_count": 10,
   "metadata": {},
   "outputs": [],
   "source": [
    "import os\n",
    "def saveDf (df,MaxParticles, feature_num,label_num, destdir):\n",
    "    if not os.path.exists(destdir):\n",
    "        os.makedirs(destdir)\n",
    "    output = os.path.join(destdir, 'dataset_%dp_%df_%dl.csv'%(MaxParticles,feature_num,label_num))\n",
    "    df.to_csv(output,index=False)"
   ]
  },
  {
   "cell_type": "code",
   "execution_count": null,
   "metadata": {},
   "outputs": [],
   "source": [
    "saveDf(jet_df, MaxParticles, len(features)-1,len(labels)-1,'data')"
   ]
  },
  {
   "cell_type": "code",
   "execution_count": null,
   "metadata": {},
   "outputs": [],
   "source": []
  }
 ],
 "metadata": {
  "kernelspec": {
   "display_name": "tf2",
   "language": "python",
   "name": "tf2"
  },
  "language_info": {
   "codemirror_mode": {
    "name": "ipython",
    "version": 3
   },
   "file_extension": ".py",
   "mimetype": "text/x-python",
   "name": "python",
   "nbconvert_exporter": "python",
   "pygments_lexer": "ipython3",
   "version": "3.7.6"
  }
 },
 "nbformat": 4,
 "nbformat_minor": 4
}
