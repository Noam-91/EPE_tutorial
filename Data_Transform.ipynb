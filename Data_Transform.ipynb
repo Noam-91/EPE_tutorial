{
 "cells": [
  {
   "cell_type": "code",
   "execution_count": null,
   "metadata": {},
   "outputs": [],
   "source": [
    "import h5py\n",
    "import pandas as pd\n",
    "import numpy as np"
   ]
  },
  {
   "cell_type": "code",
   "execution_count": null,
   "metadata": {},
   "outputs": [],
   "source": [
    "f = h5py.File('./data/processed-pythia82-lhc13-all-pt1-50k-r1_h022_e0175_t220_nonu_withPars_truth_0.z', 'r')\n",
    "treeArray = f['t_allpar_new'][()]\n",
    "\n",
    "features = ['j1_px', 'j1_py', 'j1_pz', 'j1_e', 'j1_erel', 'j1_pt', 'j1_ptrel', 'j1_eta', 'j1_etarel', 'j1_etarot', 'j1_phi', 'j1_phirel', 'j1_phirot', 'j1_deltaR', 'j1_costheta', 'j1_costhetarel','j_index']\n",
    "labels = ['j_g','j_q','j_w','j_z','j_t','j_index']\n",
    "\n",
    "features_df = pd.DataFrame(treeArray,columns=list(set(features)))\n",
    "labels_df = pd.DataFrame(treeArray,columns=list(set(labels)))\n",
    "df = pd.concat([features_df.drop(['j_index'],axis=1),labels_df],axis=1)\n",
    "df = df.reindex(features[:-1]+labels, axis=1)"
   ]
  },
  {
   "cell_type": "code",
   "execution_count": null,
   "metadata": {},
   "outputs": [],
   "source": [
    "def j_transform(MaxParticles, df, features, labels):\n",
    "    '''\n",
    "    df should have feature-cols, label-cols and j_index.\n",
    "    features and labels also should have j_index.\n",
    "    '''\n",
    "    df['label'] = df[labels[:-1]].values.tolist()\n",
    "    df = df.drop(labels[:-1],axis=1)\n",
    "    \n",
    "    cols = features[:-1]\n",
    "    \n",
    "    jBased_df = pd.DataFrame(columns=cols+['label'])\n",
    "    jBased_df = jBased_df.astype('object')\n",
    "    \n",
    "\n",
    "    for idx, jetId in enumerate(set(df.j_index)):\n",
    "        nParticles = df[df['j_index']==jetId].shape[0]\n",
    "        j_df = df[df['j_index']==jetId].sort_values(by=['j1_ptrel'], ascending=False)    # sort descending by ptrel\n",
    "        \n",
    "        if nParticles >= MaxParticles:\n",
    "            j_df = j_df.iloc[:MaxParticles,:]\n",
    "        else:\n",
    "            emptyRows = pd.DataFrame(0,index=np.arange(MaxParticles-nParticles),columns = j_df.columns)\n",
    "            j_df = pd.concat([j_df,emptyRows],axis=0)\n",
    "            \n",
    "        for col in cols:\n",
    "            jBased_df.loc[idx,col] = j_df[col].values\n",
    "        jBased_df.loc[idx,'label'] = j_df.label.iloc[0]                         \n",
    "\n",
    "    return jBased_df"
   ]
  },
  {
   "cell_type": "code",
   "execution_count": null,
   "metadata": {},
   "outputs": [],
   "source": [
    "jet_df = j_transform(30,df,features,labels)\n",
    "jet_df.info()"
   ]
  }
 ],
 "metadata": {
  "kernelspec": {
   "display_name": "tf2",
   "language": "python",
   "name": "tf2"
  },
  "language_info": {
   "codemirror_mode": {
    "name": "ipython",
    "version": 3
   },
   "file_extension": ".py",
   "mimetype": "text/x-python",
   "name": "python",
   "nbconvert_exporter": "python",
   "pygments_lexer": "ipython3",
   "version": "3.7.6"
  }
 },
 "nbformat": 4,
 "nbformat_minor": 4
}
