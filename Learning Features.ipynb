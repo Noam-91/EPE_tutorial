{
 "cells": [
  {
   "cell_type": "markdown",
   "metadata": {},
   "source": [
    "# Learning Features"
   ]
  },
  {
   "cell_type": "markdown",
   "metadata": {},
   "source": [
    "## Task 1"
   ]
  },
  {
   "cell_type": "code",
   "execution_count": 1,
   "metadata": {},
   "outputs": [],
   "source": [
    "import h5py\n",
    "import pandas as pd\n",
    "f = h5py.File('./data/processed-pythia82-lhc13-all-pt1-50k-r1_h022_e0175_t220_nonu_withPars_truth.z', 'r')\n",
    "treeArray = f['t_allpar_new'][()]"
   ]
  },
  {
   "cell_type": "code",
   "execution_count": 2,
   "metadata": {},
   "outputs": [],
   "source": [
    "labels = ['j_q','j_g','j_w','j_z','j_t']"
   ]
  },
  {
   "cell_type": "code",
   "execution_count": 3,
   "metadata": {},
   "outputs": [],
   "source": [
    "label_df = pd.DataFrame(treeArray,columns=labels)"
   ]
  },
  {
   "cell_type": "code",
   "execution_count": 4,
   "metadata": {},
   "outputs": [
    {
     "name": "stdout",
     "output_type": "stream",
     "text": [
      "<class 'pandas.core.frame.DataFrame'>\n",
      "RangeIndex: 5119909 entries, 0 to 5119908\n",
      "Data columns (total 5 columns):\n",
      " #   Column  Dtype\n",
      "---  ------  -----\n",
      " 0   j_q     int32\n",
      " 1   j_g     int32\n",
      " 2   j_w     int32\n",
      " 3   j_z     int32\n",
      " 4   j_t     int32\n",
      "dtypes: int32(5)\n",
      "memory usage: 97.7 MB\n"
     ]
    }
   ],
   "source": [
    "label_df.info()"
   ]
  },
  {
   "cell_type": "code",
   "execution_count": 5,
   "metadata": {},
   "outputs": [
    {
     "data": {
      "text/html": [
       "<div>\n",
       "<style scoped>\n",
       "    .dataframe tbody tr th:only-of-type {\n",
       "        vertical-align: middle;\n",
       "    }\n",
       "\n",
       "    .dataframe tbody tr th {\n",
       "        vertical-align: top;\n",
       "    }\n",
       "\n",
       "    .dataframe thead th {\n",
       "        text-align: right;\n",
       "    }\n",
       "</style>\n",
       "<table border=\"1\" class=\"dataframe\">\n",
       "  <thead>\n",
       "    <tr style=\"text-align: right;\">\n",
       "      <th></th>\n",
       "      <th>Label</th>\n",
       "      <th>Number of jets</th>\n",
       "      <th>Description</th>\n",
       "    </tr>\n",
       "  </thead>\n",
       "  <tbody>\n",
       "    <tr>\n",
       "      <th>0</th>\n",
       "      <td>Total</td>\n",
       "      <td>5119909</td>\n",
       "      <td>Total statistics</td>\n",
       "    </tr>\n",
       "    <tr>\n",
       "      <th>1</th>\n",
       "      <td>q</td>\n",
       "      <td>777373</td>\n",
       "      <td>Light-quark jet</td>\n",
       "    </tr>\n",
       "    <tr>\n",
       "      <th>2</th>\n",
       "      <td>g</td>\n",
       "      <td>1390520</td>\n",
       "      <td>Gluon jet</td>\n",
       "    </tr>\n",
       "    <tr>\n",
       "      <th>3</th>\n",
       "      <td>w</td>\n",
       "      <td>798451</td>\n",
       "      <td>W-boson jet</td>\n",
       "    </tr>\n",
       "    <tr>\n",
       "      <th>4</th>\n",
       "      <td>z</td>\n",
       "      <td>834146</td>\n",
       "      <td>Z-boson jet</td>\n",
       "    </tr>\n",
       "    <tr>\n",
       "      <th>5</th>\n",
       "      <td>t</td>\n",
       "      <td>1319419</td>\n",
       "      <td>Top-quark jet</td>\n",
       "    </tr>\n",
       "    <tr>\n",
       "      <th>6</th>\n",
       "      <td>undef</td>\n",
       "      <td>0</td>\n",
       "      <td>Undefined jet</td>\n",
       "    </tr>\n",
       "  </tbody>\n",
       "</table>\n",
       "</div>"
      ],
      "text/plain": [
       "   Label  Number of jets       Description\n",
       "0  Total         5119909  Total statistics\n",
       "1      q          777373   Light-quark jet\n",
       "2      g         1390520         Gluon jet\n",
       "3      w          798451       W-boson jet\n",
       "4      z          834146       Z-boson jet\n",
       "5      t         1319419     Top-quark jet\n",
       "6  undef               0     Undefined jet"
      ]
     },
     "execution_count": 5,
     "metadata": {},
     "output_type": "execute_result"
    }
   ],
   "source": [
    "label_table = pd.DataFrame(columns=['Label','Number of jets','Description'], data=[['Total',label_df.shape[0],'Total statistics'],['q',label_df.j_q.sum(),'Light-quark jet'],['g',label_df.j_g.sum(),'Gluon jet'],['w',label_df.j_w.sum(),'W-boson jet'],['z',label_df.j_z.sum(),'Z-boson jet'],['t',label_df.j_t.sum(),'Top-quark jet'],['undef',0,'Undefined jet']])\n",
    "label_table"
   ]
  },
  {
   "cell_type": "markdown",
   "metadata": {},
   "source": [
    "## Task 2"
   ]
  },
  {
   "cell_type": "code",
   "execution_count": 6,
   "metadata": {},
   "outputs": [],
   "source": [
    "import matplotlib.pyplot as plt"
   ]
  },
  {
   "cell_type": "code",
   "execution_count": 7,
   "metadata": {},
   "outputs": [],
   "source": [
    "kinematics = ['j_mass_mmdt', 'j_pt', 'j_eta']\n",
    "substructures = ['j_zlogz', 'j_multiplicity']\n",
    "EC_funcs = ['j_c1_b0_mmdt', 'j_c1_b1_mmdt', 'j_c1_b2_mmdt', 'j_c2_b1_mmdt', 'j_c2_b2_mmdt','j_d2_b1_mmdt','j_d2_b2_mmdt', 'j_d2_a1_b1_mmdt', 'j_d2_a1_b2_mmdt','j_m2_b1_mmdt', 'j_m2_b2_mmdt','j_n2_b1_mmdt', 'j_n2_b2_mmdt',]"
   ]
  },
  {
   "cell_type": "code",
   "execution_count": 8,
   "metadata": {},
   "outputs": [],
   "source": [
    "hfeat_df = pd.DataFrame(treeArray,columns=labels+kinematics+substructures+EC_funcs)"
   ]
  },
  {
   "cell_type": "code",
   "execution_count": 9,
   "metadata": {},
   "outputs": [],
   "source": [
    "def hist_plot(df,feat_list,bins,log=False):\n",
    "    row = len(feat_list)\n",
    "    column = 1\n",
    "    fig = plt.figure(figsize=[8,6*row])\n",
    "    for i, feat in enumerate(feat_list):\n",
    "        ax = fig.add_subplot(row,column,i+1)\n",
    "        ax.hist(df[hfeat_df.j_q==1][feat], bins,density=True,histtype='step',label='Quark',log=log)\n",
    "        ax.hist(df[hfeat_df.j_g==1][feat], bins,density=True,histtype='step',label='Gluon',log=log)\n",
    "        ax.hist(df[hfeat_df.j_w==1][feat], bins,density=True,histtype='step',label='W-boson',log=log)\n",
    "        ax.hist(df[hfeat_df.j_z==1][feat], bins,density=True,histtype='step',label='Z-boson',log=log)\n",
    "        ax.hist(df[hfeat_df.j_t==1][feat], bins,density=True,histtype='step',label='Top-quark',log=log)\n",
    "        ax.legend()\n",
    "        ax.set_xlabel(feat)\n",
    "        ax.set_ylabel('Prob. Density(a.u.)')"
   ]
  },
  {
   "cell_type": "code",
   "execution_count": 10,
   "metadata": {},
   "outputs": [
    {
     "data": {
      "image/png": "[encoded data removed]",
      "text/plain": [
       "<Figure size 576x1296 with 3 Axes>"
      ]
     },
     "metadata": {
      "needs_background": "light"
     },
     "output_type": "display_data"
    }
   ],
   "source": [
    "hist_plot(hfeat_df,kinematics,40)"
   ]
  },
  {
   "cell_type": "markdown",
   "metadata": {},
   "source": [
    "# Task 3"
   ]
  },
  {
   "cell_type": "code",
   "execution_count": 11,
   "metadata": {},
   "outputs": [],
   "source": [
    "lfeats = ['j1_px', 'j1_py', 'j1_pz', 'j1_e', 'j1_pdgid', 'j1_erel', 'j1_pt', 'j1_ptrel', 'j1_eta', 'j1_etarel', 'j1_etarot', 'j1_phi', 'j1_phirel', 'j1_phirot', 'j1_deltaR', 'j1_costheta', 'j1_costhetarel', 'j1_e1mcosthetarel']"
   ]
  },
  {
   "cell_type": "code",
   "execution_count": 12,
   "metadata": {},
   "outputs": [],
   "source": [
    "lfeat_df = pd.DataFrame(treeArray,columns=labels+lfeats)"
   ]
  },
  {
   "cell_type": "code",
   "execution_count": null,
   "metadata": {},
   "outputs": [],
   "source": [
    "hist_plot(lfeat_df,lfeats,40,log=True)"
   ]
  },
  {
   "cell_type": "code",
   "execution_count": null,
   "metadata": {},
   "outputs": [],
   "source": [
    "# 2D plots\n",
    "from matplotlib.colors import LogNorm\n",
    "def hist2d_plot(df,labels,bins, rot=True):\n",
    "    row = len(labels)\n",
    "    column = 1\n",
    "    fig = plt.figure(figsize=[8,6*row])\n",
    "    if rot:\n",
    "        for i, feat in enumerate(labels):\n",
    "            ax = fig.add_subplot(row,column,i+1)\n",
    "            img = ax.hist2d(x=df[df[feat]==1].j1_etarot, y=df[df[feat]==1].j1_phirot,weights=df[df[feat]==1].j1_ptrel,bins=bins,norm=LogNorm()) \n",
    "\n",
    "            ax.set_title('Histogram2D for '+feat+ ' weighted by j1_ptrel')\n",
    "            ax.set_xlabel('j1_etarot')\n",
    "            ax.set_ylabel('j1_phirot')\n",
    "    else:\n",
    "        for i, feat in enumerate(labels):\n",
    "            ax = fig.add_subplot(row,column,i+1)\n",
    "            img = ax.hist2d(x=df[df[feat]==1].j1_eta, y=df[df[feat]==1].j1_phi,weights=df[df[feat]==1].j1_ptrel,bins=bins,norm=LogNorm()) \n",
    "\n",
    "            ax.set_title('Histogram2D for '+feat+ ' weighted by j1_ptrel')\n",
    "            ax.set_xlabel('j1_eta')\n",
    "            ax.set_ylabel('j1_phi')"
   ]
  },
  {
   "cell_type": "code",
   "execution_count": null,
   "metadata": {},
   "outputs": [],
   "source": [
    "# rotated eta&phi\n",
    "hist2d_plot(lfeat_df,labels,[40,40],rot=True)"
   ]
  },
  {
   "cell_type": "code",
   "execution_count": null,
   "metadata": {},
   "outputs": [],
   "source": [
    "# non-rotated eta&phi\n",
    "hist2d_plot(lfeat_df,labels,[40,40],rot=False)"
   ]
  },
  {
   "cell_type": "code",
   "execution_count": null,
   "metadata": {},
   "outputs": [],
   "source": []
  }
 ],
 "metadata": {
  "kernelspec": {
   "display_name": "Python 3",
   "language": "python",
   "name": "python3"
  },
  "language_info": {
   "codemirror_mode": {
    "name": "ipython",
    "version": 3
   },
   "file_extension": ".py",
   "mimetype": "text/x-python",
   "name": "python",
   "nbconvert_exporter": "python",
   "pygments_lexer": "ipython3",
   "version": "3.7.6"
  }
 },
 "nbformat": 4,
 "nbformat_minor": 4
}
